{
 "cells": [
  {
   "cell_type": "markdown",
   "metadata": {},
   "source": [
    "\n",
    "<a href='https://www.darshan.ac.in/'> <img src='https://www.darshan.ac.in/Content/media/DU_Logo.svg' width=\"250\" height=\"300\"/></a>\n",
    "<pre>\n",
    "<center><b><h1>Python Programming - 2301CS404</b></center>\n",
    "<center><b><h1>Lab - 5</b></center>\n",
    "<center><b><h1>Name : Yashraj Dodia</b></center>\n",
    "<center><b><h1>Enrollment : 23010101069</b></center>\n",
    "<center><b><h1>Date : 24-12-2024</b></center>\n",
    "<pre>"
   ]
  },
  {
   "cell_type": "code",
   "execution_count": 3,
   "metadata": {},
   "outputs": [],
   "source": [
    "def createList(*args):\n",
    "    l1 = []\n",
    "    l1.extend(args)\n",
    "    return l1"
   ]
  },
  {
   "cell_type": "markdown",
   "metadata": {},
   "source": [
    "# List"
   ]
  },
  {
   "cell_type": "markdown",
   "metadata": {},
   "source": [
    "### 01) WAP to find sum of all the elements in a List."
   ]
  },
  {
   "cell_type": "code",
   "execution_count": 1,
   "metadata": {},
   "outputs": [
    {
     "name": "stdout",
     "output_type": "stream",
     "text": [
      "15\n"
     ]
    }
   ],
   "source": [
    "l1 = [1,2,3,4,5]\n",
    "sum = 0\n",
    "for i in l1:\n",
    "    sum+=i\n",
    "print(sum)"
   ]
  },
  {
   "cell_type": "markdown",
   "metadata": {},
   "source": [
    "### 02) WAP to find largest element in a List."
   ]
  },
  {
   "cell_type": "code",
   "execution_count": 7,
   "metadata": {},
   "outputs": [
    {
     "name": "stdout",
     "output_type": "stream",
     "text": [
      "6969\n"
     ]
    }
   ],
   "source": [
    "l1 = [73,23,45,12,67,67,69,34,21,66,123,2308,6969]\n",
    "l1 = sorted(l1)\n",
    "print(l1[len(l1)-1])"
   ]
  },
  {
   "cell_type": "markdown",
   "metadata": {},
   "source": [
    "### 03) WAP to find the length of a List."
   ]
  },
  {
   "cell_type": "code",
   "execution_count": 16,
   "metadata": {},
   "outputs": [
    {
     "name": "stdout",
     "output_type": "stream",
     "text": [
      "8\n"
     ]
    }
   ],
   "source": [
    "l1 = createList(1,2,4,5,6,7,8,9)\n",
    "print(len(l1))"
   ]
  },
  {
   "cell_type": "markdown",
   "metadata": {},
   "source": [
    "## 04) WAP to interchange first and last elements in a list."
   ]
  },
  {
   "cell_type": "code",
   "execution_count": 17,
   "metadata": {},
   "outputs": [
    {
     "name": "stdout",
     "output_type": "stream",
     "text": [
      "[12, 4, 521, 32, 6, 7, 8, 45, 23]\n"
     ]
    }
   ],
   "source": [
    "l1 = createList(23,4,521,32,6,7,8,45,12)\n",
    "l1[0],l1[len(l1)-1] = l1[len(l1)-1],l1[0]\n",
    "print(l1)"
   ]
  },
  {
   "cell_type": "markdown",
   "metadata": {},
   "source": [
    "### 05) WAP to split the List into two parts and append the first part to the end."
   ]
  },
  {
   "cell_type": "code",
   "execution_count": 20,
   "metadata": {},
   "outputs": [
    {
     "name": "stdout",
     "output_type": "stream",
     "text": [
      "[6, 7, 8, 45, 12, 23, 4, 521, 32]\n"
     ]
    }
   ],
   "source": [
    "l1 = createList(23,4,521,32,6,7,8,45,12)\n",
    "l2 = l1[:len(l1)//2]\n",
    "l3 = l1[len(l1)//2:]\n",
    "l3.extend(l2)\n",
    "print(l3)"
   ]
  },
  {
   "cell_type": "markdown",
   "metadata": {},
   "source": [
    "### 06) WAP to interchange the elements on two positions entered by a user."
   ]
  },
  {
   "cell_type": "code",
   "execution_count": 21,
   "metadata": {},
   "outputs": [
    {
     "name": "stdout",
     "output_type": "stream",
     "text": [
      "Enter first position : 2\n",
      "Enter second position : 4\n",
      "[23, 4, 6, 32, 521, 7, 8, 45, 12]\n"
     ]
    }
   ],
   "source": [
    "l1 = createList(23,4,521,32,6,7,8,45,12)\n",
    "p1 = int(input(\"Enter first position : \"))\n",
    "p2 = int(input(\"Enter second position : \"))\n",
    "l1[p1],l1[p2] = l1[p2],l1[p1]\n",
    "print(l1)"
   ]
  },
  {
   "cell_type": "markdown",
   "metadata": {},
   "source": [
    "### 07) WAP to reverse the list entered by user."
   ]
  },
  {
   "cell_type": "code",
   "execution_count": 36,
   "metadata": {},
   "outputs": [
    {
     "name": "stdout",
     "output_type": "stream",
     "text": [
      "[23, 4, 521, 32, 6, 7, 8, 45, 12]\n"
     ]
    }
   ],
   "source": [
    "l1 = createList(23,4,521,32,6,7,8,45,12)\n",
    "for i in range(0,len(l1)):\n",
    "    l1[i],l1[len(l1)-i-1] = l1[len(l1)-i-1],l1[i]\n",
    "print(l1)"
   ]
  },
  {
   "cell_type": "markdown",
   "metadata": {},
   "source": [
    "### 08) WAP to print even numbers in a list."
   ]
  },
  {
   "cell_type": "code",
   "execution_count": 33,
   "metadata": {},
   "outputs": [
    {
     "name": "stdout",
     "output_type": "stream",
     "text": [
      "4\n",
      "32\n",
      "6\n",
      "8\n",
      "12\n"
     ]
    }
   ],
   "source": [
    "l1 = createList(23,4,521,32,6,7,8,45,12)\n",
    "for i in l1:\n",
    "    if(i%2==0):\n",
    "        print(i)"
   ]
  },
  {
   "cell_type": "markdown",
   "metadata": {},
   "source": [
    "### 09) WAP to count unique items in a list."
   ]
  },
  {
   "cell_type": "code",
   "execution_count": 37,
   "metadata": {},
   "outputs": [
    {
     "name": "stdout",
     "output_type": "stream",
     "text": [
      "Total unique elements are : 4\n"
     ]
    }
   ],
   "source": [
    "l1 = createList(1,1,2,2,1,1,3,23,3,3,4,4,56,21,73)\n",
    "d1 = {}\n",
    "d1 = dict.fromkeys(l1,0)\n",
    "for i in l1:\n",
    "    d1[i] += 1\n",
    "count = 0\n",
    "for i in d1:\n",
    "    if(d1[i]==1):\n",
    "        count+=1\n",
    "print(f'Total unique elements are : {count}')"
   ]
  },
  {
   "cell_type": "markdown",
   "metadata": {},
   "source": [
    "### 10) WAP to copy a list."
   ]
  },
  {
   "cell_type": "code",
   "execution_count": 17,
   "metadata": {},
   "outputs": [
    {
     "name": "stdout",
     "output_type": "stream",
     "text": [
      "[1, 1, 2, 2, 1, 1, 3, 23, 3, 3, 4, 4]\n"
     ]
    }
   ],
   "source": [
    "l1 = createList(1,1,2,2,1,1,3,23,3,3,4,4)\n",
    "l2 = l1.copy()\n",
    "print(l2)"
   ]
  },
  {
   "cell_type": "markdown",
   "metadata": {},
   "source": [
    "### 11) WAP to print all odd numbers in a given range."
   ]
  },
  {
   "cell_type": "code",
   "execution_count": 19,
   "metadata": {},
   "outputs": [
    {
     "name": "stdin",
     "output_type": "stream",
     "text": [
      "Enter a number :  10\n"
     ]
    },
    {
     "name": "stdout",
     "output_type": "stream",
     "text": [
      "1\n",
      "3\n",
      "5\n",
      "7\n",
      "9\n"
     ]
    }
   ],
   "source": [
    "n = int(input(\"Enter a number : \"))\n",
    "for i in range (0,n):\n",
    "    if(i%2!=0):\n",
    "        print(i)\n"
   ]
  },
  {
   "cell_type": "markdown",
   "metadata": {},
   "source": [
    "### 12) WAP to count occurrences of an element in a list."
   ]
  },
  {
   "cell_type": "code",
   "execution_count": null,
   "metadata": {},
   "outputs": [],
   "source": [
    "l1 = createList(1,1,2,2,1,1,3,23,3,3,4,4)\n",
    "d1 = {}\n",
    "d1 = dict.fromkeys(l1,0)\n",
    "for i in l1:\n",
    "    d1[i] += 1\n",
    "print(d1)"
   ]
  },
  {
   "cell_type": "markdown",
   "metadata": {},
   "source": [
    "### 13) WAP to find second largest number in a list."
   ]
  },
  {
   "cell_type": "code",
   "execution_count": 59,
   "metadata": {},
   "outputs": [
    {
     "name": "stdout",
     "output_type": "stream",
     "text": [
      "Second largest element in list is : 56\n"
     ]
    }
   ],
   "source": [
    "l1 = createList(1,1,2,2,1,1,3,23,3,3,4,4,56,21,73)\n",
    "s1 =  set(l1)\n",
    "l1 = [i for i in s1]\n",
    "l1 = sorted(l1)\n",
    "print(f'Second largest element in list is : {l1[len(l1)-2]}')"
   ]
  },
  {
   "cell_type": "markdown",
   "metadata": {},
   "source": [
    "### 14) WAP to extract elements with frequency greater than K."
   ]
  },
  {
   "cell_type": "code",
   "execution_count": 39,
   "metadata": {},
   "outputs": [
    {
     "name": "stdin",
     "output_type": "stream",
     "text": [
      "Enter the frequency :  2\n"
     ]
    },
    {
     "name": "stdout",
     "output_type": "stream",
     "text": [
      "Total unique elements are : 4\n"
     ]
    }
   ],
   "source": [
    "l1 = createList(1,1,2,2,1,1,3,23,3,3,4,4,56,21,73)\n",
    "k = int(input(\"Enter the frequency : \"))\n",
    "d1 = {}\n",
    "d1 = dict.fromkeys(l1,0)\n",
    "for i in l1:\n",
    "    d1[i] += 1\n",
    "count = 0\n",
    "for i in d1:\n",
    "    if(d1[i]>=k):\n",
    "        count+=1\n",
    "print(f'Total unique elements are : {count}')"
   ]
  },
  {
   "cell_type": "markdown",
   "metadata": {},
   "source": [
    "### 15) WAP to create a list of squared numbers from 0 to 9 with and without using List Comprehension."
   ]
  },
  {
   "cell_type": "code",
   "execution_count": 41,
   "metadata": {},
   "outputs": [
    {
     "name": "stdout",
     "output_type": "stream",
     "text": [
      "[0, 1, 4, 9, 16, 25, 36, 49, 64, 81]\n"
     ]
    }
   ],
   "source": [
    "l1 = [i**2 for i in range(0,10)]\n",
    "print(l1)"
   ]
  },
  {
   "cell_type": "markdown",
   "metadata": {},
   "source": [
    "### 16) WAP to create a new list (fruit whose name starts with 'b') from the list of fruits given by user."
   ]
  },
  {
   "cell_type": "code",
   "execution_count": 49,
   "metadata": {},
   "outputs": [
    {
     "name": "stdout",
     "output_type": "stream",
     "text": [
      "['Banana', 'Blackberry', 'Blueberry']\n"
     ]
    }
   ],
   "source": [
    "l1 = createList('Apple' , 'Banana' , 'Peru' , 'Mango' , 'Blackberry' , 'Blueberry')\n",
    "l2 = []\n",
    "for i in l1:\n",
    "    if(i[0]=='B'):\n",
    "        l2.append(i)\n",
    "print(l2)"
   ]
  },
  {
   "cell_type": "markdown",
   "metadata": {},
   "source": [
    "### 17) WAP to create a list of common elements from given two lists."
   ]
  },
  {
   "cell_type": "code",
   "execution_count": 51,
   "metadata": {},
   "outputs": [
    {
     "name": "stdout",
     "output_type": "stream",
     "text": [
      "[2, 2, 3, 23, 3, 3, 4, 4]\n"
     ]
    }
   ],
   "source": [
    "l1 = createList(1,1,2,2,1,1,3,23,3,3,4,4)\n",
    "l2 = createList(2,2,3,23,3,3,4,4,56,21,69)\n",
    "l3 = []\n",
    "for i in l1:\n",
    "    if(i in l2):\n",
    "        l3.append(i)\n",
    "print(l3)"
   ]
  }
 ],
 "metadata": {
  "kernelspec": {
   "display_name": "Python 3 (ipykernel)",
   "language": "python",
   "name": "python3"
  },
  "language_info": {
   "codemirror_mode": {
    "name": "ipython",
    "version": 3
   },
   "file_extension": ".py",
   "mimetype": "text/x-python",
   "name": "python",
   "nbconvert_exporter": "python",
   "pygments_lexer": "ipython3",
   "version": "3.12.7"
  }
 },
 "nbformat": 4,
 "nbformat_minor": 4
}
