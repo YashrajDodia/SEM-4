{
 "cells": [
  {
   "cell_type": "markdown",
   "metadata": {},
   "source": [
    "\n",
    "<a href='https://www.darshan.ac.in/'> <img src='https://www.darshan.ac.in/Content/media/DU_Logo.svg' width=\"250\" height=\"300\"/></a>\n",
    "<pre>\n",
    "<center><b><h1>Python Programming - 2301CS404</b></center>\n",
    "<center><b><h1>Lab - 4</b></center>\n",
    "<center><b><h1>Name : Yashraj Dodia</b></center>\n",
    "<center><b><h1>Enrollment no. : 23010101069</b></center>\n",
    "<center><b><h1>Date : 17-12-2024</b></center>\n",
    "<pre>"
   ]
  },
  {
   "cell_type": "markdown",
   "metadata": {},
   "source": [
    "# String"
   ]
  },
  {
   "cell_type": "markdown",
   "metadata": {},
   "source": [
    "### 01) WAP to check whether the given string is palindrome or not."
   ]
  },
  {
   "cell_type": "code",
   "execution_count": 3,
   "metadata": {},
   "outputs": [
    {
     "name": "stdout",
     "output_type": "stream",
     "text": [
      "Enter a string : hello how are you\n",
      "Not Palindrome\n",
      "uoy era woh olleh\n"
     ]
    }
   ],
   "source": [
    "x = input(\"Enter a string : \")\n",
    "rev = x[::-1]\n",
    "if(x==rev):\n",
    "    print(\"Palindrome\")\n",
    "else:\n",
    "    print(\"Not Palindrome\")"
   ]
  },
  {
   "cell_type": "markdown",
   "metadata": {},
   "source": [
    "### 02) WAP to reverse the words in the given string."
   ]
  },
  {
   "cell_type": "code",
   "execution_count": 5,
   "metadata": {},
   "outputs": [
    {
     "name": "stdout",
     "output_type": "stream",
     "text": [
      "Enter a string : Yashraj Dodia\n",
      "jarhsaY aidoD\n"
     ]
    }
   ],
   "source": [
    "x = input(\"Enter a string : \")\n",
    "w = x.split(\" \")\n",
    "for i in range(0,len(w)):\n",
    "    w[i] = w[i][::-1]\n",
    "str = \" \".join(w)\n",
    "print(str)"
   ]
  },
  {
   "cell_type": "markdown",
   "metadata": {},
   "source": [
    "### 03) WAP to remove ith character from given string."
   ]
  },
  {
   "cell_type": "code",
   "execution_count": 8,
   "metadata": {},
   "outputs": [
    {
     "name": "stdout",
     "output_type": "stream",
     "text": [
      "Enter a string : Yashraj\n",
      "Enter a number : 2\n",
      "Yahraj\n"
     ]
    }
   ],
   "source": [
    "x = input(\"Enter a string : \")\n",
    "i = int(input(\"Enter a number : \"))\n",
    "ans = x[:i] + x[i+1:]\n",
    "print(ans)"
   ]
  },
  {
   "cell_type": "markdown",
   "metadata": {},
   "source": [
    "### 04) WAP to find length of string without using len function."
   ]
  },
  {
   "cell_type": "code",
   "execution_count": 9,
   "metadata": {},
   "outputs": [
    {
     "name": "stdout",
     "output_type": "stream",
     "text": [
      "Enter a string : Yashraj\n",
      "7\n"
     ]
    }
   ],
   "source": [
    "x = input(\"Enter a string : \")\n",
    "count = 0\n",
    "for i in x:\n",
    "    count+=1\n",
    "print(count)"
   ]
  },
  {
   "cell_type": "markdown",
   "metadata": {},
   "source": [
    "### 05) WAP to print even length word in string."
   ]
  },
  {
   "cell_type": "code",
   "execution_count": 11,
   "metadata": {},
   "outputs": [
    {
     "name": "stdout",
     "output_type": "stream",
     "text": [
      "Enter a string : Hi How Are uu ?\n",
      "Hi\n",
      "uu\n"
     ]
    }
   ],
   "source": [
    "x = input(\"Enter a string : \")\n",
    "wl = x.split(\" \")\n",
    "for i in range (len(wl)):\n",
    "    if(len(wl[i])%2==0):\n",
    "        print(wl[i])"
   ]
  },
  {
   "cell_type": "markdown",
   "metadata": {},
   "source": [
    "### 06) WAP to count numbers of vowels in given string."
   ]
  },
  {
   "cell_type": "code",
   "execution_count": 12,
   "metadata": {},
   "outputs": [
    {
     "name": "stdout",
     "output_type": "stream",
     "text": [
      "Enter a string : Yashraj\n",
      "2\n"
     ]
    }
   ],
   "source": [
    "x = input(\"Enter a string : \")\n",
    "x = x.casefold()\n",
    "c = 0\n",
    "for i in x:\n",
    "    if(i=='a' or i=='e' or i=='i' or i=='u' or i=='o'):\n",
    "        c+=1\n",
    "print(c)        "
   ]
  },
  {
   "cell_type": "markdown",
   "metadata": {},
   "source": [
    "### 07) WAP to capitalize the first and last character of each word in a string."
   ]
  },
  {
   "cell_type": "code",
   "execution_count": 14,
   "metadata": {},
   "outputs": [
    {
     "name": "stdout",
     "output_type": "stream",
     "text": [
      "Enter a string : yashraj dodia\n",
      "YashraJ DodiA\n"
     ]
    }
   ],
   "source": [
    "x = input(\"Enter a string : \")\n",
    "wl = x.split(\" \")\n",
    "wl2 = []\n",
    "for i in wl:\n",
    "    wl2.append(i[0].upper()+i[1:len(i)-1]+i[-1].upper())\n",
    "x = \" \".join(wl2)\n",
    "print(x)"
   ]
  },
  {
   "cell_type": "markdown",
   "metadata": {},
   "source": [
    "### 08) WAP to convert given array to string."
   ]
  },
  {
   "cell_type": "code",
   "execution_count": 15,
   "metadata": {},
   "outputs": [
    {
     "name": "stdout",
     "output_type": "stream",
     "text": [
      "yashraj prem prince jigar\n"
     ]
    }
   ],
   "source": [
    "w = [\"yashraj\",\"prem\",\"prince\",\"jigar\"]\n",
    "s = \" \".join(w)\n",
    "print(s)"
   ]
  },
  {
   "cell_type": "markdown",
   "metadata": {},
   "source": [
    "### 09) Check if the password and confirm password is same or not. \n",
    "### In case of only case's mistake, show the error message."
   ]
  },
  {
   "cell_type": "code",
   "execution_count": 19,
   "metadata": {},
   "outputs": [
    {
     "name": "stdout",
     "output_type": "stream",
     "text": [
      "Enter password : Yashraj\n",
      "Enter password again : yashraj\n",
      "error\n"
     ]
    }
   ],
   "source": [
    "p = input(\"Enter password : \")\n",
    "cp = input(\"Enter password again : \")\n",
    "if(len(p)==len(cp)):\n",
    "    if(p==cp):\n",
    "        print(\"ok\")\n",
    "    else:\n",
    "        print(\"error\")\n",
    "else:\n",
    "    print(\"error\")"
   ]
  },
  {
   "cell_type": "markdown",
   "metadata": {},
   "source": [
    "### 10) : Display credit card number. \n",
    "### card no. : 1234 5678 9012 3456\n",
    "### display as  : **** **** **** 3456"
   ]
  },
  {
   "cell_type": "code",
   "execution_count": 21,
   "metadata": {},
   "outputs": [
    {
     "name": "stdout",
     "output_type": "stream",
     "text": [
      "Enter credit card number : 234516715677\n",
      "<class 'int'>\n"
     ]
    }
   ],
   "source": [
    "credno = input(\"Enter credit card number : \")\n",
    "if(not cardno.isnumeric(credno) or len(cardno)!=16):\n",
    "    print(\"False\")\n",
    "else:\n",
    "    "
   ]
  },
  {
   "cell_type": "markdown",
   "metadata": {},
   "source": [
    "### 11) : Checking if the two strings are Anagram or not.\n",
    "### s1 = decimal and s2 = medical are Anagram"
   ]
  },
  {
   "cell_type": "code",
   "execution_count": null,
   "metadata": {},
   "outputs": [],
   "source": []
  },
  {
   "cell_type": "markdown",
   "metadata": {},
   "source": [
    "### 12) : Rearrange the given string. First lowercase then uppercase alphabets.\n",
    "### input : EHlsarwiwhtwMV\n",
    "### output : lsarwiwhtwEHMV"
   ]
  },
  {
   "cell_type": "code",
   "execution_count": null,
   "metadata": {},
   "outputs": [],
   "source": []
  }
 ],
 "metadata": {
  "kernelspec": {
   "display_name": "Python 3 (ipykernel)",
   "language": "python",
   "name": "python3"
  },
  "language_info": {
   "codemirror_mode": {
    "name": "ipython",
    "version": 3
   },
   "file_extension": ".py",
   "mimetype": "text/x-python",
   "name": "python",
   "nbconvert_exporter": "python",
   "pygments_lexer": "ipython3",
   "version": "3.10.9"
  },
  "vscode": {
   "interpreter": {
    "hash": "31f2aee4e71d21fbe5cf8b01ff0e069b9275f58929596ceb00d14d90e3e16cd6"
   }
  }
 },
 "nbformat": 4,
 "nbformat_minor": 4
}
