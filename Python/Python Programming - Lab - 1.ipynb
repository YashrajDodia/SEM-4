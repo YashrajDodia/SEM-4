{
 "cells": [
  {
   "cell_type": "markdown",
   "metadata": {},
   "source": [
    "<a href='https://www.darshan.ac.in/'> <img src='https://www.darshan.ac.in/Content/media/DU_Logo.svg' width=\"250\" height=\"10\"/></a>\n",
    "<pre>\n",
    "<center><b><h1>Python Programming - 2301CS404</b></center>\n",
    "<center><b><h1>Lab - 1</b></center>\n",
    "<center><b><h1>Name : Yashraj Dodia</b></center>\n",
    "<center><b><h1>Enrollment no. : 23010101069</b></center>\n",
    "<center><b><h1>Date : 26-11-2024</b></center>\n",
    "<pre>"
   ]
  },
  {
   "cell_type": "markdown",
   "metadata": {},
   "source": [
    "### 01) WAP to print “Hello World”"
   ]
  },
  {
   "cell_type": "code",
   "execution_count": 2,
   "metadata": {},
   "outputs": [
    {
     "name": "stdout",
     "output_type": "stream",
     "text": [
      "Hello World\n"
     ]
    }
   ],
   "source": [
    "print(\"Hello World\")"
   ]
  },
  {
   "cell_type": "markdown",
   "metadata": {},
   "source": [
    "### 02) WAP to print addition of two numbers with and without using input()."
   ]
  },
  {
   "cell_type": "code",
   "execution_count": 8,
   "metadata": {},
   "outputs": [
    {
     "name": "stdout",
     "output_type": "stream",
     "text": [
      "Addition of two numbers is : 8\n"
     ]
    },
    {
     "name": "stdin",
     "output_type": "stream",
     "text": [
      "Enter first number :  6\n",
      "Enter second number :  4\n"
     ]
    },
    {
     "name": "stdout",
     "output_type": "stream",
     "text": [
      "Addition of two numbers is : 10\n"
     ]
    }
   ],
   "source": [
    "#without taking input\n",
    "a = 3\n",
    "b = 5\n",
    "print(f'Addition of two numbers is : {a+b}')\n",
    "\n",
    "#taking input\n",
    "a1 = int(input(\"Enter first number : \"))\n",
    "b1 = int(input(\"Enter second number : \"))\n",
    "print(f'Addition of two numbers is : {a1+b1}')"
   ]
  },
  {
   "cell_type": "markdown",
   "metadata": {},
   "source": [
    "### 03) WAP to check the type of the variable."
   ]
  },
  {
   "cell_type": "code",
   "execution_count": 12,
   "metadata": {},
   "outputs": [
    {
     "name": "stdout",
     "output_type": "stream",
     "text": [
      "<class 'str'>\n"
     ]
    }
   ],
   "source": [
    "str = \"Hello Duniya\"\n",
    "print(type(str))"
   ]
  },
  {
   "cell_type": "markdown",
   "metadata": {},
   "source": [
    "### 04) WAP to calculate simple interest."
   ]
  },
  {
   "cell_type": "code",
   "execution_count": 14,
   "metadata": {},
   "outputs": [
    {
     "name": "stdin",
     "output_type": "stream",
     "text": [
      "Enter principal amount :  20000\n",
      "Enter rate of intrest :  5\n",
      "Enter time period :  2\n"
     ]
    },
    {
     "name": "stdout",
     "output_type": "stream",
     "text": [
      "Intrest for given data is  : 2000.0\n"
     ]
    }
   ],
   "source": [
    "p = int(input(\"Enter principal amount : \"))\n",
    "roi = int(input(\"Enter rate of intrest : \"))\n",
    "t = int(input(\"Enter time period : \"))\n",
    "print(f'Intrest for given data is  : {(p*roi*t)/100}');"
   ]
  },
  {
   "cell_type": "markdown",
   "metadata": {},
   "source": [
    "### 05) WAP to calculate area and perimeter of a circle."
   ]
  },
  {
   "cell_type": "code",
   "execution_count": 16,
   "metadata": {},
   "outputs": [
    {
     "name": "stdin",
     "output_type": "stream",
     "text": [
      "Enter radius of circle :  10\n"
     ]
    },
    {
     "name": "stdout",
     "output_type": "stream",
     "text": [
      "Area of circle is : 314.0\n",
      "Perimeter of circle is : 62.800000000000004\n"
     ]
    }
   ],
   "source": [
    "rad = int(input(\"Enter radius of circle : \"))\n",
    "print(f'Area of circle is : {3.14*rad*rad}')\n",
    "print(f'Perimeter of circle is : {3.14*rad*2}')"
   ]
  },
  {
   "cell_type": "markdown",
   "metadata": {},
   "source": [
    "### 06) WAP to calculate area of a triangle."
   ]
  },
  {
   "cell_type": "code",
   "execution_count": 18,
   "metadata": {},
   "outputs": [
    {
     "name": "stdin",
     "output_type": "stream",
     "text": [
      "Enter base of triangle :  10\n",
      "Enter height of triangle :  10\n"
     ]
    },
    {
     "name": "stdout",
     "output_type": "stream",
     "text": [
      "Area of triangle is :  50.0\n"
     ]
    }
   ],
   "source": [
    "base = int(input(\"Enter base of triangle : \"))\n",
    "height = int(input(\"Enter height of triangle : \"))\n",
    "area = (base*height)/2\n",
    "print(\"Area of triangle is : \",area)"
   ]
  },
  {
   "cell_type": "markdown",
   "metadata": {},
   "source": [
    "### 07) WAP to compute quotient and remainder."
   ]
  },
  {
   "cell_type": "code",
   "execution_count": 20,
   "metadata": {},
   "outputs": [
    {
     "name": "stdout",
     "output_type": "stream",
     "text": [
      "Quotient is : 2\n",
      "Remainder is : 1\n"
     ]
    }
   ],
   "source": [
    "n1 = 5\n",
    "n2 = 2\n",
    "print(f'Quotient is : {n1//n2}')\n",
    "print(f'Remainder is : {n1%n2}')"
   ]
  },
  {
   "cell_type": "markdown",
   "metadata": {},
   "source": [
    "### 08) WAP to convert degree into Fahrenheit and vice versa."
   ]
  },
  {
   "cell_type": "code",
   "execution_count": 40,
   "metadata": {},
   "outputs": [
    {
     "name": "stdin",
     "output_type": "stream",
     "text": [
      "Enter temperature in celcius  23\n"
     ]
    },
    {
     "name": "stdout",
     "output_type": "stream",
     "text": [
      "Temprature in farenhite is : 73.4\n"
     ]
    },
    {
     "name": "stdin",
     "output_type": "stream",
     "text": [
      "Enter temperature in farenhite  73.4\n"
     ]
    },
    {
     "name": "stdout",
     "output_type": "stream",
     "text": [
      "Temprature in celsius is 23.000000000000004\n"
     ]
    }
   ],
   "source": [
    "celsius = float(input(\"Enter temperature in celcius \"))\n",
    "print(f'Temprature in farenhite is : {(celsius * 1.8) + 32}')\n",
    "farenhite = float(input(\"Enter temperature in farenhite \"))\n",
    "print(f'Temprature in celsius is {(farenhite-32)/1.8}')"
   ]
  },
  {
   "cell_type": "markdown",
   "metadata": {},
   "source": [
    "### 09) WAP to find the distance between two points in 2-D space."
   ]
  },
  {
   "cell_type": "code",
   "execution_count": 32,
   "metadata": {},
   "outputs": [
    {
     "name": "stdin",
     "output_type": "stream",
     "text": [
      "Enter x1 :  2\n",
      "Enter y1 :  0\n",
      "Enter x2 :  5\n",
      "Enter y2 :  0\n"
     ]
    },
    {
     "name": "stdout",
     "output_type": "stream",
     "text": [
      "Distance between two points is : 3.0\n"
     ]
    }
   ],
   "source": [
    "import math\n",
    "x1 = int(input(\"Enter x1 : \"))\n",
    "y1 = int(input(\"Enter y1 : \"))\n",
    "x2 = int(input(\"Enter x2 : \"))\n",
    "y2 = int(input(\"Enter y2 : \"))\n",
    "print(f'Distance between two points is : {math.sqrt(math.pow(x2-x1,2)+math.pow(y2-y1,2))}')"
   ]
  },
  {
   "cell_type": "markdown",
   "metadata": {},
   "source": [
    "### 10) WAP to print sum of n natural numbers."
   ]
  },
  {
   "cell_type": "code",
   "execution_count": 34,
   "metadata": {},
   "outputs": [
    {
     "name": "stdin",
     "output_type": "stream",
     "text": [
      "Enter number till wich you want sum :  5\n"
     ]
    },
    {
     "name": "stdout",
     "output_type": "stream",
     "text": [
      "Sum of natural numbers till 5 is 15.0\n"
     ]
    }
   ],
   "source": [
    "lnum = int(input(\"Enter number till wich you want sum : \"))\n",
    "print(f'Sum of natural numbers till {lnum} is {((1+lnum)*lnum)/2}')"
   ]
  },
  {
   "cell_type": "markdown",
   "metadata": {},
   "source": [
    "### 11) WAP to print sum of square of n natural numbers."
   ]
  },
  {
   "cell_type": "code",
   "execution_count": 36,
   "metadata": {},
   "outputs": [
    {
     "name": "stdin",
     "output_type": "stream",
     "text": [
      "Enter number till wich you want sum :  5\n"
     ]
    },
    {
     "name": "stdout",
     "output_type": "stream",
     "text": [
      "Sum of squares of natural numbers till 5 is 55.0\n"
     ]
    }
   ],
   "source": [
    "lnum1 = int(input(\"Enter number till wich you want sum : \"))\n",
    "print(f'Sum of squares of natural numbers till {lnum1} is {(lnum1*(lnum1+1)*(2*lnum1+1))/6}')"
   ]
  },
  {
   "cell_type": "markdown",
   "metadata": {},
   "source": [
    "### 12) WAP to concate the first and last name of the student."
   ]
  },
  {
   "cell_type": "code",
   "execution_count": 30,
   "metadata": {},
   "outputs": [
    {
     "name": "stdout",
     "output_type": "stream",
     "text": [
      "Yashraj Dodia\n"
     ]
    }
   ],
   "source": [
    "firstName = \"Yashraj\"\n",
    "lastName = \"Dodia\"\n",
    "print(firstName,lastName,sep = ' ')"
   ]
  },
  {
   "cell_type": "markdown",
   "metadata": {},
   "source": [
    "### 13) WAP to swap two numbers."
   ]
  },
  {
   "cell_type": "code",
   "execution_count": 22,
   "metadata": {},
   "outputs": [
    {
     "name": "stdout",
     "output_type": "stream",
     "text": [
      "Before swapping num1 is 5 and num2 is 2\n",
      "After swapping num1 is 2 and num2 is 5\n"
     ]
    }
   ],
   "source": [
    "num1 = 5\n",
    "num2 = 2\n",
    "print(f'Before swapping num1 is {num1} and num2 is {num2}')\n",
    "num1,num2 = num2,num1\n",
    "print(f'After swapping num1 is {num1} and num2 is {num2}')"
   ]
  },
  {
   "cell_type": "markdown",
   "metadata": {},
   "source": [
    "### 14) WAP to get the distance from user into kilometer, and convert it into meter, feet, inches and centimeter."
   ]
  },
  {
   "cell_type": "code",
   "execution_count": 28,
   "metadata": {
    "scrolled": true
   },
   "outputs": [
    {
     "name": "stdin",
     "output_type": "stream",
     "text": [
      "Enter distance in kilometer :  1\n"
     ]
    },
    {
     "name": "stdout",
     "output_type": "stream",
     "text": [
      "Distance in meter is : 1000\n",
      "Distance in feet is : 3280.84\n",
      "Distance in inches is : 39370.1\n",
      "Distance in centimetr is : 100000\n"
     ]
    }
   ],
   "source": [
    "kilometer = int(input(\"Enter distance in kilometer : \"))\n",
    "print(f'Distance in meter is : {kilometer*1000}')\n",
    "print(f'Distance in feet is : {kilometer*3280.84}')\n",
    "print(f'Distance in inches is : {kilometer*39370.1}')\n",
    "print(f'Distance in centimetr is : {kilometer*1000*100}')"
   ]
  },
  {
   "cell_type": "markdown",
   "metadata": {},
   "source": [
    "### 15) WAP to get day, month and year from the user and print the date in the given format: 23-11-2024."
   ]
  },
  {
   "cell_type": "code",
   "execution_count": 24,
   "metadata": {},
   "outputs": [
    {
     "name": "stdin",
     "output_type": "stream",
     "text": [
      "Enter date in DD format:  23\n",
      "Enter month in MM format:  11\n",
      "Enter year in YYYY format:  2024\n"
     ]
    },
    {
     "name": "stdout",
     "output_type": "stream",
     "text": [
      "23-11-2024\n"
     ]
    }
   ],
   "source": [
    "date = int(input(\"Enter date in DD format: \"))\n",
    "month = int(input(\"Enter month in MM format: \"))\n",
    "year = int(input(\"Enter year in YYYY format: \"))\n",
    "print(date,month,year,sep='-')"
   ]
  }
 ],
 "metadata": {
  "kernelspec": {
   "display_name": "Python 3 (ipykernel)",
   "language": "python",
   "name": "python3"
  },
  "language_info": {
   "codemirror_mode": {
    "name": "ipython",
    "version": 3
   },
   "file_extension": ".py",
   "mimetype": "text/x-python",
   "name": "python",
   "nbconvert_exporter": "python",
   "pygments_lexer": "ipython3",
   "version": "3.12.7"
  },
  "vscode": {
   "interpreter": {
    "hash": "31f2aee4e71d21fbe5cf8b01ff0e069b9275f58929596ceb00d14d90e3e16cd6"
   }
  }
 },
 "nbformat": 4,
 "nbformat_minor": 4
}
