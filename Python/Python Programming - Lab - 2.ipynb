{
 "cells": [
  {
   "cell_type": "markdown",
   "metadata": {},
   "source": [
    "\n",
    "<a href='https://www.darshan.ac.in/'> <img src='https://www.darshan.ac.in/Content/media/DU_Logo.svg' width=\"250\" height=\"300\"/></a>\n",
    "<pre>\n",
    "<center><b><h1>Python Programming - 2301CS404</b></center>\n",
    "<center><b><h1>Lab - 2</b></center>\n",
    "<center><b><h1>Name : Yashraj Dodia</b></center>\n",
    "<center><b><h1>Enrollment no. : 23010101069</b></center>\n",
    "<center><b><h1>Date : 03/12/2024</b></center>\n",
    "<pre>"
   ]
  },
  {
   "cell_type": "markdown",
   "metadata": {},
   "source": [
    "# if..else.."
   ]
  },
  {
   "cell_type": "markdown",
   "metadata": {},
   "source": [
    "### 01) WAP to check whether the given number is positive or negative."
   ]
  },
  {
   "cell_type": "code",
   "execution_count": 2,
   "metadata": {},
   "outputs": [
    {
     "name": "stdout",
     "output_type": "stream",
     "text": [
      "Enter a number : 69\n",
      "Number is positive\n"
     ]
    }
   ],
   "source": [
    "x = int(input(\"Enter a number : \"))\n",
    "if(x<0):\n",
    "    print(\"Number is negative\")\n",
    "else:\n",
    "    print(\"Number is positive\")"
   ]
  },
  {
   "cell_type": "markdown",
   "metadata": {},
   "source": [
    "### 02) WAP to check whether the given number is odd or even."
   ]
  },
  {
   "cell_type": "code",
   "execution_count": 4,
   "metadata": {},
   "outputs": [
    {
     "name": "stdout",
     "output_type": "stream",
     "text": [
      "Enter a number : 23\n",
      "Number is odd\n"
     ]
    }
   ],
   "source": [
    "y = int(input(\"Enter a number : \"))\n",
    "if(y%2==0):\n",
    "    print(\"Number is even\")\n",
    "else:\n",
    "    print(\"Number is odd\")"
   ]
  },
  {
   "cell_type": "markdown",
   "metadata": {},
   "source": [
    "### 03) WAP to find out largest number from given two numbers using simple if and ternary operator."
   ]
  },
  {
   "cell_type": "code",
   "execution_count": 6,
   "metadata": {},
   "outputs": [
    {
     "name": "stdout",
     "output_type": "stream",
     "text": [
      "Enter first number : 45\n",
      "Enter second number : 23\n",
      "a is greater than b\n",
      "a is greater than b\n"
     ]
    }
   ],
   "source": [
    "a = int(input(\"Enter first number : \"))\n",
    "b = int(input(\"Enter second number : \"))\n",
    "\n",
    "#using simple if\n",
    "if(a>b):\n",
    "    print(\"a is greater than b\")\n",
    "else:\n",
    "    print(\"b is greater than a\")\n",
    "    \n",
    "# using ternary\n",
    "print(\"a is greater than b\") if (a>b) else print(\"b is greater than a\")"
   ]
  },
  {
   "cell_type": "markdown",
   "metadata": {},
   "source": [
    "### 04) WAP to find out largest number from given three numbers."
   ]
  },
  {
   "cell_type": "code",
   "execution_count": 10,
   "metadata": {},
   "outputs": [
    {
     "name": "stdout",
     "output_type": "stream",
     "text": [
      "Enter first number : 2\n",
      "Enter second number : 29\n",
      "Enter third number : 9\n",
      "n2 is greatest among all three\n"
     ]
    }
   ],
   "source": [
    "n1 = int(input(\"Enter first number : \"))\n",
    "n2 = int(input(\"Enter second number : \"))\n",
    "n3 = int(input(\"Enter third number : \"))\n",
    "print(\"n1 is greatest amon all three\") if(n1>n2) else print(\"n2 is greatest among all three\") if(n2>n3) else print(\"n3 is greatest among all three\")"
   ]
  },
  {
   "cell_type": "markdown",
   "metadata": {},
   "source": [
    "### 05) WAP to check whether the given year is leap year or not.\n",
    "[If a year can be divisible by 4 but not divisible by 100 then it is leap year but if it is divisible by 400 then it is leap year]"
   ]
  },
  {
   "cell_type": "code",
   "execution_count": 14,
   "metadata": {},
   "outputs": [
    {
     "name": "stdout",
     "output_type": "stream",
     "text": [
      "Enter year in YYYY format : 2017\n",
      "Not leap year\n"
     ]
    }
   ],
   "source": [
    "year = int(input(\"Enter year in YYYY format : \"))\n",
    "if year%4==0 and year%100!=0:\n",
    "    print(\"It is leap year\")\n",
    "elif year%400==0:\n",
    "    print(\"It is leap year\")\n",
    "else:\n",
    "    print(\"Not leap year\")"
   ]
  },
  {
   "cell_type": "markdown",
   "metadata": {},
   "source": [
    "### 06) WAP in python to display the name of the day according to the number given by the user."
   ]
  },
  {
   "cell_type": "code",
   "execution_count": 20,
   "metadata": {},
   "outputs": [
    {
     "name": "stdout",
     "output_type": "stream",
     "text": [
      "Enter a day-69\n",
      "Monday\n"
     ]
    }
   ],
   "source": [
    "day = int(input(\"Enter a day \"))\n",
    "rem = day%7\n",
    "\n",
    "match rem :\n",
    "    case 1 : \n",
    "        print(\"Monday\")\n",
    "    case 2 : \n",
    "        print(\"Tuesday\")\n",
    "    case 3 : \n",
    "        print(\"Wednesday\")\n",
    "    case 4 : \n",
    "        print(\"Thursday\")\n",
    "    case 5 : \n",
    "        print(\"Friday\")\n",
    "    case 6 : \n",
    "        print(\"Saturday\")\n",
    "    case 0 : \n",
    "        print(\"Sunday\")\n",
    "    case _ : \n",
    "        print(\"Enter valid day\")"
   ]
  },
  {
   "cell_type": "markdown",
   "metadata": {},
   "source": [
    "### 07) WAP to implement simple calculator which performs (add,sub,mul,div) of two no. based on user input."
   ]
  },
  {
   "cell_type": "code",
   "execution_count": 19,
   "metadata": {},
   "outputs": [
    {
     "name": "stdout",
     "output_type": "stream",
     "text": [
      "Enter first number : 32\n",
      "Enter second number : 2\n",
      "Enter operator : -\n",
      "Difference of two numbers is : 30\n"
     ]
    }
   ],
   "source": [
    "o1 = int(input(\"Enter first number : \"))\n",
    "o2 = int(input(\"Enter second number : \"))\n",
    "op = input(\"Enter operator : \")\n",
    "\n",
    "match op : \n",
    "    case '+' : \n",
    "        print(f'Sum of two numbers is : {o1+o2}')\n",
    "    case '-' : \n",
    "        print(f'Difference of two numbers is : {o1-o2}')\n",
    "    case '*' : \n",
    "        print(f'Product of two number is : {o1*o2}')\n",
    "    case '/' : \n",
    "        print(f'Division of two numbers is : {o1/o2}')\n",
    "    case _ :\n",
    "        print(\"Enter valid operator !!!\")"
   ]
  },
  {
   "cell_type": "markdown",
   "metadata": {},
   "source": [
    "### 08) WAP to read marks of five subjects. Calculate percentage and print class accordingly. \n",
    "Fail below 35 </br>\n",
    "Pass Class between 35 to 45 </br>\n",
    "Second Class</br>\n",
    "between 45 to 60</br>\n",
    "First Class between 60 to 70</br> \n",
    "Distinction if more than 70"
   ]
  },
  {
   "cell_type": "code",
   "execution_count": 23,
   "metadata": {},
   "outputs": [
    {
     "name": "stdout",
     "output_type": "stream",
     "text": [
      "Enter marks of subject 1 : 1\n",
      "Enter marks of subject 2 : 2\n",
      "Enter marks of subject 3 : 3\n",
      "Enter marks of subject 4 : 4\n",
      "Enter marks of subject 5 : 5\n",
      "Sorry beta tumse na ho payega\n"
     ]
    }
   ],
   "source": [
    "total = 0;\n",
    "for i in range(5):\n",
    "    total = total + int(input(f'Enter marks of subject {i+1} : '))\n",
    "percu = total*0.2\n",
    "\n",
    "if(percu < 35):\n",
    "    print(\"Sorry beta tumse na ho payega\")\n",
    "elif(percu>=35 and percu<45):\n",
    "    print(\"Fail hote hote bacha ho tum beta\")\n",
    "elif(percu>=45 and percu<60):\n",
    "    print(\"Mehnat ni jarur chhe beta\")\n",
    "elif(percu>=60 and percu<70):\n",
    "    print(\"Good beta but u can do better\")\n",
    "else:\n",
    "    print(\"Hakan beta first class with distiction em ne...\")"
   ]
  },
  {
   "cell_type": "markdown",
   "metadata": {},
   "source": [
    "### 09) Three sides of a triangle are entered through the keyboard, WAP to check whether the triangle is isosceles, equilateral, scalene or right-angled triangle."
   ]
  },
  {
   "cell_type": "code",
   "execution_count": 30,
   "metadata": {},
   "outputs": [
    {
     "name": "stdout",
     "output_type": "stream",
     "text": [
      "Enter first side : 23\n",
      "Enter second side : 23\n",
      "Enter third side : 2\n",
      "Isosceles triangle\n"
     ]
    }
   ],
   "source": [
    "s1 = int(input(\"Enter first side : \"))\n",
    "s2 = int(input(\"Enter second side : \"))\n",
    "s3 = int(input(\"Enter third side : \"))\n",
    "\n",
    "if(s1==s2 and s2==s3):\n",
    "    print(\"Equilateral triangle\")\n",
    "elif((s1==s2 or s2==s3) or s1==s3):\n",
    "    print(\"Isosceles triangle\")\n",
    "elif(s1!=s2 and s2!=s3 and s3!=s1):\n",
    "    print(\"Scalene triangle\")"
   ]
  },
  {
   "cell_type": "markdown",
   "metadata": {},
   "source": [
    "### 10) WAP to find the second largest number among three user input numbers."
   ]
  },
  {
   "cell_type": "code",
   "execution_count": null,
   "metadata": {},
   "outputs": [],
   "source": [
    "num1 = int(input(\"Enter first number :\"))\n",
    "num2 = int(input(\"Enter second number :\"))\n",
    "num3 = int(input(\"Enter third number :\"))\n",
    " \n",
    "if num1 > num2 and num1 > num3:\n",
    "    if num2>num3:\n",
    "    print(\"The second largest number is\",num2)\n",
    "    else:\n",
    "    print(\"The largest number is\",num3)\n",
    "elif num2 > num1 and num2 >num3:\n",
    "    if num1 > num3:\n",
    "    print(\"The second largest number is\", num1)\n",
    "    else:\n",
    "    print(\"The second largest number is\", num3)\n",
    "else:\n",
    "    if num1 > num2:\n",
    "    print(\"The second largest number is\",num1)\n",
    "    else:\n",
    "    print(\"The second largest number is\", num2)\n"
   ]
  },
  {
   "cell_type": "markdown",
   "metadata": {},
   "source": [
    "### 11) WAP to calculate electricity bill based on following criteria. Which takes the unit from the user.\n",
    "a. First 1 to 50 units – Rs. 2.60/unit</br>\n",
    "b. Next 50 to 100 units – Rs. 3.25/unit</br>\n",
    "c. Next 100 to 200 units – Rs. 5.26/unit</br>\n",
    "d. above 200 units – Rs. 8.45/unit"
   ]
  },
  {
   "cell_type": "code",
   "execution_count": null,
   "metadata": {},
   "outputs": [],
   "source": [
    "units = int(input(\"Enter units\")); \n",
    "\n",
    "if (units <= 50):\n",
    "       print(units * 10) \n",
    "     \n",
    "    elif (units <= 200):\n",
    "        print ((50 * 2.60) +\n",
    "                (units - 50) * 3.25); \n",
    "     \n",
    "    elif (units <= 200):\n",
    "      \n",
    "        print((50 * 2.60) +\n",
    "                (100 * 3.25) +\n",
    "                (units - 100) * 5.26); \n",
    "     \n",
    "    elif (units > 200):\n",
    "     \n",
    "        print ((50 * 2.60) +\n",
    "                (100 * 3.25) +\n",
    "                (200 * 8.45) +\n",
    "                (units - 200) * 8.45);"
   ]
  }
 ],
 "metadata": {
  "kernelspec": {
   "display_name": "Python 3 (ipykernel)",
   "language": "python",
   "name": "python3"
  },
  "language_info": {
   "codemirror_mode": {
    "name": "ipython",
    "version": 3
   },
   "file_extension": ".py",
   "mimetype": "text/x-python",
   "name": "python",
   "nbconvert_exporter": "python",
   "pygments_lexer": "ipython3",
   "version": "3.10.9"
  }
 },
 "nbformat": 4,
 "nbformat_minor": 4
}
